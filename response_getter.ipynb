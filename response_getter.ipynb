{
 "cells": [
  {
   "cell_type": "code",
   "execution_count": 6,
   "metadata": {
    "collapsed": true,
    "pycharm": {
     "is_executing": false
    }
   },
   "outputs": [],
   "source": [
    "from matplotlib import pyplot as plt\n",
    "import numpy as np\n",
    "\n",
    "path = 'C:/Users/Przemek/Downloads/Discord UE.csv/Discord UE.csv'"
   ]
  },
  {
   "cell_type": "code",
   "execution_count": 7,
   "outputs": [],
   "source": [
    "def prepare_responses(path):\n",
    "    with open(path, 'r', encoding='utf8') as raw:\n",
    "        questions = [q.strip('/\"\\n') for q in raw.readline().split(sep=',')]\n",
    "        print(questions)\n",
    "\n",
    "        # print(len(questions))\n",
    "\n",
    "        responses = []\n",
    "\n",
    "        for line in raw:\n",
    "\n",
    "            response = dict()\n",
    "            stack = ''\n",
    "            appending = False\n",
    "            i = 0\n",
    "            for char in line:\n",
    "                if not appending and char == '\\\"':\n",
    "                    appending = True\n",
    "                elif not stack and char == ',':\n",
    "                    continue\n",
    "                elif appending and char == '\\\"':\n",
    "                    if ',' in stack or ';' in stack:\n",
    "                        nums = [int(n.strip()) if n.strip() != 'inf' else 'inf' for n in stack.replace(',', ';').split(';')]\n",
    "                        response[i] = {'clicks': nums[0], 'time': nums[1], 'hardness': nums[2]}\n",
    "                    else:\n",
    "                        response[i] = stack.strip('/\"')\n",
    "\n",
    "                    stack = ''\n",
    "                    appending = False\n",
    "                    i += 1\n",
    "                else:\n",
    "                    stack += char\n",
    "\n",
    "            responses.append(response)\n",
    "\n",
    "        print()\n",
    "        for response in responses:\n",
    "            print(list(response.values()))\n",
    "\n",
    "    return questions, responses\n",
    "\n",
    "\n",
    "def create_bar_chart(groups, values, title):\n",
    "\n",
    "    height = [sum([1 for v in values if v in groups['content'][i]]) for i in range(len(groups))]\n",
    "    bars = groups['names']\n",
    "    y_pos = np.arange(len(bars))\n",
    "\n",
    "    # Create bars\n",
    "    plt.bar(y_pos, height)\n",
    "\n",
    "    # Create names on the x-axis\n",
    "    plt.xticks(y_pos, bars)\n",
    "\n",
    "    plt.title(title)\n",
    "\n",
    "    # Show graphic\n",
    "    plt.show()"
   ],
   "metadata": {
    "collapsed": false,
    "pycharm": {
     "name": "#%%\n",
     "is_executing": false
    }
   }
  },
  {
   "cell_type": "code",
   "execution_count": 8,
   "outputs": [
    {
     "name": "stdout",
     "text": [
      "['Timestamp', 'Twój pseudonim', 'Podaj swój wiek', 'Podaj swoją płeć', 'Ile godzin dziennie spędzasz korzystając z komputera?', 'Jak określiłbyś swoje doświadczenie z Discordem?', 'Dodaj nowego znajomego o nicku tmek1244#3009', 'Utwórz serwer o nazwie “Śmieszne Całeczki”', 'Napisz prywatną wiadomość do znajomego', 'Rozpocznij udostępnianie ekranu na kanale ogólnym', 'Dodaj znajomego na serwer', 'Wyślij wiadomość na kanale ogólnym “Cześć', ' jestem nowy”', 'Utwórz kanał tekstowy \"\"weekendowe pogaduchy', 'Utwórz kanał głosowy “tygodniowe pogaduchy”', 'Dodaj rolę \"\"Administrator\"\" na serwerze', 'Wyłącz możliwość pisania wiadomości dla roli @everyone', 'Stwórz nową kategorię na serwerze', 'Ogarnicz limit osób na kanale głosowym do 4', 'Wyślij gifa na czat', 'Wycisz serwer', 'Sprawdź kto dodał kanał \"\"weekendowe pogaduchy', 'Odpowiedz na wiadomość na kanale ogólnym', 'Zareaguj na wiadomość na kanale ogólnym', 'Usuń kanał \"\"weekendowe pogaduchy', 'Przypnij wiadomość na kanale ogólnym', 'Znajdź wiadomość na kanale ogólnym', 'Daj komuś uprawnienia administratora na serwerze', 'Usuń serwer “Śmieszne Całeczki”', \"Znajdź swój 'nick' dzięki któremu twój znajomy będzie mógł cię dodać\", 'Zmień próg wykrywania głosu', 'Włącz opcję “naciśnij i mów” ', 'Przetestuj mikrofon', 'Wycisz/ odcisz mikrofon', 'Znajdź opcję zmiany hasła', 'Zmień motyw na jasny', 'Zmień swój status na \"\"nie przeszkadzać', 'Dołącz do publicznego serwera Among Us Polska', 'Znajdź opcję usunięcia konta (nie usuwaj konta)', 'Jeśli korzystałeś/aś z programu Microsoft Teams jak oceniasz jego przejrzystość i łatwość korzystania?', 'Jeśli korzystałeś/aś z programu Webex meeting jak oceniasz jego przejrzystość i łatwość korzystania?', 'Jak oceniasz przejrzystość i łatwość korzystania z Discorda?']\n",
      "\n",
      "['2021/01/24 12:27:13 pm CET', 'paweł', '18', 'Mężczyzna', '3 - 5', 'Korzystam praktycznie codziennie', {'clicks': 2, 'time': 13, 'hardness': 1}, {'clicks': 3, 'time': 19, 'hardness': 1}, {'clicks': 1, 'time': 9, 'hardness': 1}, {'clicks': 5, 'time': 9, 'hardness': 1}, {'clicks': 3, 'time': 9, 'hardness': 1}, {'clicks': 1, 'time': 7, 'hardness': 1}, {'clicks': 2, 'time': 12, 'hardness': 1}, {'clicks': 5, 'time': 28, 'hardness': 2}, {'clicks': 35, 'time': 159, 'hardness': 4}, {'clicks': 7, 'time': 26, 'hardness': 3}, {'clicks': 4, 'time': 12, 'hardness': 2}, {'clicks': 5, 'time': 21, 'hardness': 2}, {'clicks': 5, 'time': 8, 'hardness': 1}, {'clicks': 3, 'time': 7, 'hardness': 1}, {'clicks': 'inf', 'time': 'inf', 'hardness': 5}, {'clicks': 5, 'time': 10, 'hardness': 1}, {'clicks': 3, 'time': 5, 'hardness': 1}, {'clicks': 4, 'time': 6, 'hardness': 1}, {'clicks': 4, 'time': 7, 'hardness': 1}, {'clicks': 3, 'time': 33, 'hardness': 1}, {'clicks': 10, 'time': 76, 'hardness': 1}, {'clicks': 7, 'time': 22, 'hardness': 1}, {'clicks': 0, 'time': 0, 'hardness': 1}, {'clicks': 3, 'time': 4, 'hardness': 1}, {'clicks': 4, 'time': 7, 'hardness': 1}, {'clicks': 4, 'time': 7, 'hardness': 1}, {'clicks': 2, 'time': 2, 'hardness': 1}, {'clicks': 2, 'time': 14, 'hardness': 1}, {'clicks': 3, 'time': 6, 'hardness': 1}, {'clicks': 2, 'time': 3, 'hardness': 1}, {'clicks': 6, 'time': 21, 'hardness': 1}, {'clicks': 2, 'time': 15, 'hardness': 1}, 'Średnio', '', 'Bardzo dobrze']\n",
      "['2021/01/24 1:52:08 pm CET', 'penguin', '45', 'Kobieta', '> 5', 'Jest to moje pierwsze zetknięcie z tym programem', {'clicks': 9, 'time': 90, 'hardness': 1}, {'clicks': 4, 'time': 33, 'hardness': 1}, {'clicks': 3, 'time': 33, 'hardness': 2}, {'clicks': 20, 'time': 109, 'hardness': 2}, {'clicks': 3, 'time': 15, 'hardness': 1}, {'clicks': 5, 'time': 65, 'hardness': 2}, {'clicks': 4, 'time': 23, 'hardness': 1}, {'clicks': 3, 'time': 10, 'hardness': 1}, {'clicks': 28, 'time': 335, 'hardness': 4}, {'clicks': 5, 'time': 51, 'hardness': 2}, {'clicks': 2, 'time': 17, 'hardness': 1}, {'clicks': 8, 'time': 76, 'hardness': 2}, {'clicks': 5, 'time': 25, 'hardness': 1}, {'clicks': 10, 'time': 135, 'hardness': 3}, '', {'clicks': 4, 'time': 50, 'hardness': 2}, {'clicks': 2, 'time': 7, 'hardness': 1}, {'clicks': 3, 'time': 13, 'hardness': 1}, {'clicks': 5, 'time': 39, 'hardness': 1}, {'clicks': 7, 'time': 120, 'hardness': 3}, {'clicks': 5, 'time': 99, 'hardness': 2}, {'clicks': 6, 'time': 39, 'hardness': 1}, {'clicks': 2, 'time': 30, 'hardness': 2}, '', {'clicks': 6, 'time': 98, 'hardness': 3}, {'clicks': 3, 'time': 30, 'hardness': 2}, {'clicks': 1, 'time': 2, 'hardness': 1}, {'clicks': 5, 'time': 34, 'hardness': 1}, {'clicks': 3, 'time': 24, 'hardness': 2}, {'clicks': 6, 'time': 90, 'hardness': 3}, {'clicks': 9, 'time': 116, 'hardness': 2}, {'clicks': 2, 'time': 16, 'hardness': 1}, 'Raczej dobrze', '', 'Raczej dobrze']\n",
      "['2021/01/24 2:55:04 pm CET', 'sssx', '50', 'Mężczyzna', '1 - 2', 'Jest to moje pierwsze zetknięcie z tym programem', {'clicks': 2, 'time': 34, 'hardness': 2}, {'clicks': 6, 'time': 55, 'hardness': 3}, {'clicks': 6, 'time': 91, 'hardness': 3}, {'clicks': 6, 'time': 66, 'hardness': 3}, {'clicks': 3, 'time': 22, 'hardness': 3}, {'clicks': 2, 'time': 22, 'hardness': 1}, {'clicks': 2, 'time': 31, 'hardness': 1}, {'clicks': 4, 'time': 24, 'hardness': 2}, {'clicks': 30, 'time': 345, 'hardness': 5}, {'clicks': 4, 'time': 46, 'hardness': 2}, {'clicks': 5, 'time': 57, 'hardness': 3}, {'clicks': 9, 'time': 35, 'hardness': 3}, {'clicks': 5, 'time': 50, 'hardness': 2}, {'clicks': 4, 'time': 36, 'hardness': 3}, {'clicks': 14, 'time': 196, 'hardness': 4}, {'clicks': 2, 'time': 34, 'hardness': 1}, {'clicks': 2, 'time': 16, 'hardness': 1}, {'clicks': 3, 'time': 11, 'hardness': 1}, {'clicks': 6, 'time': 29, 'hardness': 2}, {'clicks': 4, 'time': 37, 'hardness': 2}, {'clicks': 2, 'time': 20, 'hardness': 1}, {'clicks': 11, 'time': 189, 'hardness': 4}, {'clicks': 0, 'time': 25, 'hardness': 2}, {'clicks': 7, 'time': 48, 'hardness': 3}, {'clicks': 3, 'time': 26, 'hardness': 2}, {'clicks': 3, 'time': 27, 'hardness': 1}, {'clicks': 3, 'time': 12, 'hardness': 1}, {'clicks': 4, 'time': 41, 'hardness': 2}, {'clicks': 3, 'time': 21, 'hardness': 1}, {'clicks': 6, 'time': 75, 'hardness': 3}, {'clicks': 15, 'time': 238, 'hardness': 4}, {'clicks': 2, 'time': 13, 'hardness': 1}, 'Nie korzystałem/łam', 'Nie korzystałem/łam', 'Raczej dobrze']\n",
      "['2021/01/24 4:08:36 pm CET', 'lokomotywapełnaorezentów', '19', 'Kobieta', '> 5', 'Korzystam praktycznie codziennie', {'clicks': 6, 'time': 27, 'hardness': 1}, {'clicks': 4, 'time': 29, 'hardness': 1}, {'clicks': 2, 'time': 10, 'hardness': 1}, {'clicks': 5, 'time': 9, 'hardness': 1}, {'clicks': 2, 'time': 5, 'hardness': 1}, {'clicks': 0, 'time': 5, 'hardness': 1}, {'clicks': 3, 'time': 7, 'hardness': 1}, {'clicks': 3, 'time': 9, 'hardness': 1}, {'clicks': 23, 'time': 189, 'hardness': 4}, {'clicks': 9, 'time': 29, 'hardness': 3}, {'clicks': 3, 'time': 16, 'hardness': 1}, {'clicks': 7, 'time': 28, 'hardness': 2}, {'clicks': 3, 'time': 4, 'hardness': 1}, {'clicks': 20, 'time': 33, 'hardness': 2}, {'clicks': 9, 'time': 25, 'hardness': 2}, {'clicks': 3, 'time': 19, 'hardness': 1}, {'clicks': 4, 'time': 5, 'hardness': 1}, {'clicks': 2, 'time': 4, 'hardness': 1}, {'clicks': 3, 'time': 8, 'hardness': 1}, {'clicks': 26, 'time': 144, 'hardness': 4}, {'clicks': 4, 'time': 8, 'hardness': 1}, {'clicks': 6, 'time': 30, 'hardness': 1}, '', {'clicks': 6, 'time': 10, 'hardness': 1}, {'clicks': 5, 'time': 70, 'hardness': 3}, {'clicks': 14, 'time': 54, 'hardness': 1}, {'clicks': 1, 'time': 1, 'hardness': 1}, {'clicks': 4, 'time': 28, 'hardness': 1}, {'clicks': 3, 'time': 7, 'hardness': 1}, {'clicks': 2, 'time': 4, 'hardness': 1}, '', {'clicks': 2, 'time': 7, 'hardness': 1}, 'Średnio', 'Nie korzystałem/łam', 'Raczej dobrze']\n",
      "['2021/01/24 4:54:07 pm CET', 'tlen99', '21', 'Mężczyzna', '> 5', 'Korzystam praktycznie codziennie', {'clicks': 2, 'time': 12, 'hardness': 1}, {'clicks': 4, 'time': 21, 'hardness': 1}, {'clicks': 1, 'time': 11, 'hardness': 1}, {'clicks': 5, 'time': 12, 'hardness': 1}, {'clicks': 3, 'time': 8, 'hardness': 1}, {'clicks': 1, 'time': 8, 'hardness': 1}, {'clicks': 3, 'time': 13, 'hardness': 1}, {'clicks': 4, 'time': 15, 'hardness': 1}, {'clicks': 8, 'time': 31, 'hardness': 2}, {'clicks': 5, 'time': 29, 'hardness': 2}, {'clicks': 4, 'time': 19, 'hardness': 2}, {'clicks': 5, 'time': 18, 'hardness': 1}, {'clicks': 5, 'time': 13, 'hardness': 1}, {'clicks': 4, 'time': 23, 'hardness': 2}, {'clicks': 14, 'time': 97, 'hardness': 4}, {'clicks': 3, 'time': 9, 'hardness': 1}, {'clicks': 3, 'time': 9, 'hardness': 1}, {'clicks': 3, 'time': 10, 'hardness': 1}, {'clicks': 4, 'time': 9, 'hardness': 1}, {'clicks': 4, 'time': 19, 'hardness': 1}, {'clicks': 3, 'time': 17, 'hardness': 1}, {'clicks': 6, 'time': 31, 'hardness': 2}, {'clicks': 0, 'time': 1, 'hardness': 1}, {'clicks': 3, 'time': 5, 'hardness': 1}, {'clicks': 4, 'time': 9, 'hardness': 1}, {'clicks': 4, 'time': 10, 'hardness': 1}, {'clicks': 2, 'time': 2, 'hardness': 1}, {'clicks': 2, 'time': 19, 'hardness': 2}, {'clicks': 3, 'time': 13, 'hardness': 1}, {'clicks': 2, 'time': 3, 'hardness': 1}, {'clicks': 6, 'time': 32, 'hardness': 2}, {'clicks': 2, 'time': 14, 'hardness': 1}, 'Raczej dobrze', 'Raczej dobrze', 'Bardzo dobrze']\n",
      "['2021/01/24 7:06:18 pm CET', 'achujcietoobchodzi', '21', 'Mężczyzna', '> 5', 'Korzystam praktycznie codziennie', {'clicks': 2, 'time': 23, 'hardness': 2}, {'clicks': 3, 'time': 13, 'hardness': 2}, {'clicks': 2, 'time': 8, 'hardness': 1}, {'clicks': 'inf', 'time': 'inf', 'hardness': 5}, {'clicks': 2, 'time': 5, 'hardness': 1}, {'clicks': 1, 'time': 7, 'hardness': 1}, {'clicks': 2, 'time': 17, 'hardness': 1}, {'clicks': 2, 'time': 14, 'hardness': 4}, {'clicks': 12, 'time': 30, 'hardness': 3}, {'clicks': 9, 'time': 55, 'hardness': 3}, {'clicks': 9, 'time': 61, 'hardness': 3}, {'clicks': 2, 'time': 4, 'hardness': 1}, {'clicks': 3, 'time': 9, 'hardness': 1}, {'clicks': 2, 'time': 8, 'hardness': 1}, {'clicks': 'inf', 'time': 'inf', 'hardness': 5}, {'clicks': 3, 'time': 10, 'hardness': 1}, {'clicks': 2, 'time': 3, 'hardness': 1}, {'clicks': 3, 'time': 4, 'hardness': 1}, {'clicks': 5, 'time': 8, 'hardness': 2}, {'clicks': 1, 'time': 1, 'hardness': 1}, {'clicks': 7, 'time': 51, 'hardness': 3}, {'clicks': 5, 'time': 19, 'hardness': 1}, {'clicks': 0, 'time': 2, 'hardness': 1}, {'clicks': 3, 'time': 39, 'hardness': 2}, {'clicks': 4, 'time': 16, 'hardness': 2}, {'clicks': 3, 'time': 8, 'hardness': 2}, {'clicks': 1, 'time': 2, 'hardness': 1}, {'clicks': 5, 'time': 15, 'hardness': 3}, {'clicks': 3, 'time': 13, 'hardness': 2}, {'clicks': 2, 'time': 4, 'hardness': 1}, {'clicks': 10, 'time': 43, 'hardness': 2}, {'clicks': 2, 'time': 9, 'hardness': 2}, 'Raczej źle', 'Raczej dobrze', 'Raczej dobrze']\n",
      "['2021/01/24 8:23:04 pm CET', 'potężnykaczor', '22', 'Mężczyzna', '> 5', 'Korzystam praktycznie codziennie', {'clicks': 4, 'time': 10, 'hardness': 1}, {'clicks': 6, 'time': 16, 'hardness': 2}, {'clicks': 3, 'time': 8, 'hardness': 1}, {'clicks': 4, 'time': 6, 'hardness': 1}, {'clicks': 2, 'time': 10, 'hardness': 1}, {'clicks': 1, 'time': 10, 'hardness': 1}, {'clicks': 2, 'time': 10, 'hardness': 1}, {'clicks': 3, 'time': 11, 'hardness': 1}, {'clicks': 7, 'time': 34, 'hardness': 2}, {'clicks': 3, 'time': 16, 'hardness': 2}, {'clicks': 10, 'time': 43, 'hardness': 3}, {'clicks': 6, 'time': 14, 'hardness': 2}, {'clicks': 3, 'time': 17, 'hardness': 1}, {'clicks': 4, 'time': 34, 'hardness': 3}, {'clicks': 'inf', 'time': 'inf', 'hardness': 5}, {'clicks': 2, 'time': 13, 'hardness': 1}, {'clicks': 3, 'time': 6, 'hardness': 1}, {'clicks': 3, 'time': 4, 'hardness': 1}, {'clicks': 3, 'time': 5, 'hardness': 1}, {'clicks': 0, 'time': 10, 'hardness': 1}, {'clicks': 2, 'time': 3, 'hardness': 1}, {'clicks': 5, 'time': 17, 'hardness': 1}, {'clicks': 5, 'time': 13, 'hardness': 2}, {'clicks': 7, 'time': 30, 'hardness': 2}, {'clicks': 3, 'time': 5, 'hardness': 1}, {'clicks': 3, 'time': 6, 'hardness': 1}, {'clicks': 1, 'time': 1, 'hardness': 1}, {'clicks': 6, 'time': 19, 'hardness': 2}, {'clicks': 3, 'time': 7, 'hardness': 1}, {'clicks': 2, 'time': 3, 'hardness': 1}, {'clicks': 8, 'time': 32, 'hardness': 2}, {'clicks': 1, 'time': 5, 'hardness': 1}, 'Średnio', 'Raczej źle', 'Bardzo dobrze']\n",
      "['2021/01/24 8:37:17 pm CET', 'tok', '55', 'Mężczyzna', '2 - 3', 'Jest to moje pierwsze zetknięcie z tym programem', {'clicks': 2, 'time': 27, 'hardness': 2}, {'clicks': 8, 'time': 40, 'hardness': 1}, {'clicks': 5, 'time': 16, 'hardness': 1}, {'clicks': 11, 'time': 43, 'hardness': 3}, {'clicks': 7, 'time': 45, 'hardness': 2}, {'clicks': 26, 'time': 220, 'hardness': 4}, {'clicks': 6, 'time': 45, 'hardness': 2}, {'clicks': 11, 'time': 69, 'hardness': 3}, {'clicks': 10, 'time': 81, 'hardness': 3}, {'clicks': 'inf', 'time': 'inf', 'hardness': 5}, {'clicks': 4, 'time': 22, 'hardness': 2}, {'clicks': 9, 'time': 53, 'hardness': 2}, {'clicks': 7, 'time': 36, 'hardness': 2}, {'clicks': 'inf', 'time': 'inf', 'hardness': 5}, {'clicks': 'inf', 'time': 'inf', 'hardness': 5}, {'clicks': 14, 'time': 63, 'hardness': 3}, {'clicks': 17, 'time': 71, 'hardness': 3}, {'clicks': 4, 'time': 6, 'hardness': 1}, {'clicks': 14, 'time': 75, 'hardness': 3}, {'clicks': 11, 'time': 70, 'hardness': 3}, {'clicks': 8, 'time': 30, 'hardness': 2}, {'clicks': 'inf', 'time': 'inf', 'hardness': 5}, {'clicks': 1, 'time': 3, 'hardness': 1}, {'clicks': 13, 'time': 43, 'hardness': 2}, {'clicks': 3, 'time': 15, 'hardness': 1}, {'clicks': 6, 'time': 27, 'hardness': 2}, {'clicks': 0, 'time': 0, 'hardness': 1}, {'clicks': 5, 'time': 63, 'hardness': 2}, {'clicks': 3, 'time': 15, 'hardness': 1}, {'clicks': 'inf', 'time': 'inf', 'hardness': 5}, {'clicks': 7, 'time': 64, 'hardness': 3}, {'clicks': 11, 'time': 58, 'hardness': 3}, '', '', 'Średnio']\n",
      "['2021/01/24 9:09:22 pm CET', 'kk952', '20', 'Mężczyzna', '> 5', 'Korzystam praktycznie codziennie', {'clicks': 4, 'time': 30, 'hardness': 1}, {'clicks': 3, 'time': 19, 'hardness': 1}, {'clicks': 3, 'time': 11, 'hardness': 2}, {'clicks': 3, 'time': 14, 'hardness': 2}, {'clicks': 2, 'time': 11, 'hardness': 1}, {'clicks': 1, 'time': 15, 'hardness': 1}, {'clicks': 3, 'time': 19, 'hardness': 2}, {'clicks': 3, 'time': 19, 'hardness': 1}, {'clicks': 7, 'time': 41, 'hardness': 2}, {'clicks': 6, 'time': 16, 'hardness': 2}, {'clicks': 7, 'time': 67, 'hardness': 2}, {'clicks': 2, 'time': 14, 'hardness': 2}, {'clicks': 3, 'time': 10, 'hardness': 1}, {'clicks': 3, 'time': 11, 'hardness': 1}, {'clicks': 'inf', 'time': 'inf', 'hardness': 5}, {'clicks': 2, 'time': 16, 'hardness': 1}, {'clicks': 3, 'time': 3, 'hardness': 1}, {'clicks': 3, 'time': 13, 'hardness': 1}, {'clicks': 3, 'time': 13, 'hardness': 1}, {'clicks': 1, 'time': 11, 'hardness': 1}, {'clicks': 4, 'time': 12, 'hardness': 2}, {'clicks': 3, 'time': 28, 'hardness': 2}, {'clicks': 0, 'time': 4, 'hardness': 1}, {'clicks': 3, 'time': 11, 'hardness': 2}, {'clicks': 3, 'time': 15, 'hardness': 2}, {'clicks': 3, 'time': 20, 'hardness': 1}, {'clicks': 1, 'time': 5, 'hardness': 1}, {'clicks': 3, 'time': 49, 'hardness': 2}, {'clicks': 6, 'time': 24, 'hardness': 2}, {'clicks': 2, 'time': 6, 'hardness': 1}, {'clicks': 7, 'time': 53, 'hardness': 2}, {'clicks': 6, 'time': 43, 'hardness': 2}, 'Raczej dobrze', 'Raczej dobrze', 'Bardzo dobrze']\n",
      "['2021/01/24 9:47:20 pm CET', 'lata', '50', 'Mężczyzna', '3 - 5', 'Zdarzyło mi się kiedyś korzystać', {'clicks': 30, 'time': 300, 'hardness': 4}, {'clicks': 7, 'time': 30, 'hardness': 2}, {'clicks': 16, 'time': 190, 'hardness': 3}, {'clicks': 8, 'time': 55, 'hardness': 3}, {'clicks': 4, 'time': 17, 'hardness': 2}, {'clicks': 5, 'time': 10, 'hardness': 3}, {'clicks': 5, 'time': 11, 'hardness': 2}, {'clicks': 6, 'time': 17, 'hardness': 2}, {'clicks': 17, 'time': 150, 'hardness': 4}, {'clicks': 30, 'time': 360, 'hardness': 4}, {'clicks': 3, 'time': 8, 'hardness': 2}, {'clicks': 5, 'time': 20, 'hardness': 2}, {'clicks': 4, 'time': 20, 'hardness': 2}, {'clicks': 9, 'time': 60, 'hardness': 3}, '', '', '', '', '', '', '', {'clicks': 10, 'time': 48, 'hardness': 3}, {'clicks': 1, 'time': 83, 'hardness': 3}, {'clicks': 10, 'time': 59, 'hardness': 3}, {'clicks': 6, 'time': 50, 'hardness': 2}, {'clicks': 4, 'time': 10, 'hardness': 2}, {'clicks': 1, 'time': 10, 'hardness': 1}, {'clicks': 5, 'time': 29, 'hardness': 2}, {'clicks': 8, 'time': 25, 'hardness': 3}, {'clicks': 4, 'time': 13, 'hardness': 2}, {'clicks': 15, 'time': 60, 'hardness': 4}, {'clicks': 3, 'time': 10, 'hardness': 2}, 'Raczej źle', 'Nie korzystałem/łam', 'Bardzo źle']\n",
      "['2021/01/24 10:30:52 pm CET', 'tusia', '21', 'Kobieta', '< 1', 'Jest to moje pierwsze zetknięcie z tym programem', {'clicks': 7, 'time': 55, 'hardness': 2}, {'clicks': 4, 'time': 30, 'hardness': 1}, {'clicks': 4, 'time': 6, 'hardness': 1}, {'clicks': 8, 'time': 40, 'hardness': 3}, {'clicks': 5, 'time': 15, 'hardness': 2}, {'clicks': 2, 'time': 10, 'hardness': 1}, {'clicks': 10, 'time': 40, 'hardness': 2}, {'clicks': 5, 'time': 10, 'hardness': 2}, {'clicks': 25, 'time': 60, 'hardness': 3}, {'clicks': 8, 'time': 55, 'hardness': 3}, {'clicks': 5, 'time': 20, 'hardness': 2}, {'clicks': 8, 'time': 38, 'hardness': 3}, {'clicks': 4, 'time': 15, 'hardness': 1}, {'clicks': 35, 'time': 180, 'hardness': 4}, {'clicks': 'inf', 'time': 'inf', 'hardness': 5}, {'clicks': 3, 'time': 6, 'hardness': 1}, {'clicks': 2, 'time': 10, 'hardness': 1}, {'clicks': 3, 'time': 5, 'hardness': 1}, {'clicks': 5, 'time': 25, 'hardness': 2}, {'clicks': 5, 'time': 50, 'hardness': 3}, {'clicks': 15, 'time': 75, 'hardness': 3}, {'clicks': 7, 'time': 45, 'hardness': 2}, {'clicks': 1, 'time': 5, 'hardness': 1}, {'clicks': 3, 'time': 12, 'hardness': 3}, {'clicks': 5, 'time': 13, 'hardness': 3}, {'clicks': 15, 'time': 120, 'hardness': 4}, {'clicks': 1, 'time': 1, 'hardness': 1}, {'clicks': 2, 'time': 6, 'hardness': 1}, {'clicks': 6, 'time': 8, 'hardness': 2}, {'clicks': 2, 'time': 2, 'hardness': 1}, {'clicks': 10, 'time': 60, 'hardness': 3}, {'clicks': 25, 'time': 90, 'hardness': 3}, 'Nie korzystałem/łam', 'Nie korzystałem/łam', 'Raczej dobrze']\n",
      "['2021/01/24 10:52:35 pm CET', 'czarus', '47', 'Kobieta', '< 1', 'Jest to moje pierwsze zetknięcie z tym programem', {'clicks': 2, 'time': 49, 'hardness': 1}, {'clicks': 7, 'time': 122, 'hardness': 2}, {'clicks': 13, 'time': 183, 'hardness': 5}, {'clicks': 11, 'time': 184, 'hardness': 4}, {'clicks': 3, 'time': 31, 'hardness': 1}, {'clicks': 6, 'time': 63, 'hardness': 2}, {'clicks': 4, 'time': 62, 'hardness': 2}, {'clicks': 7, 'time': 83, 'hardness': 2}, {'clicks': 'inf', 'time': 'inf', 'hardness': 5}, {'clicks': 8, 'time': 231, 'hardness': 5}, {'clicks': 'inf', 'time': 'inf', 'hardness': 5}, {'clicks': 6, 'time': 45, 'hardness': 2}, {'clicks': 7, 'time': 86, 'hardness': 4}, {'clicks': 'inf', 'time': 'inf', 'hardness': 5}, {'clicks': 'inf', 'time': 'inf', 'hardness': 5}, {'clicks': 7, 'time': 67, 'hardness': 2}, {'clicks': 11, 'time': 93, 'hardness': 2}, {'clicks': 3, 'time': 42, 'hardness': 1}, {'clicks': 9, 'time': 83, 'hardness': 2}, {'clicks': 8, 'time': 75, 'hardness': 2}, {'clicks': 'inf', 'time': 'inf', 'hardness': 5}, {'clicks': 13, 'time': 213, 'hardness': 3}, {'clicks': 0, 'time': 6, 'hardness': 1}, {'clicks': 8, 'time': 92, 'hardness': 2}, {'clicks': 7, 'time': 81, 'hardness': 2}, {'clicks': 6, 'time': 68, 'hardness': 2}, {'clicks': 1, 'time': 18, 'hardness': 1}, {'clicks': 2, 'time': 24, 'hardness': 2}, {'clicks': 3, 'time': 39, 'hardness': 1}, {'clicks': 'inf', 'time': 'inf', 'hardness': 5}, {'clicks': 9, 'time': 192, 'hardness': 3}, {'clicks': 2, 'time': 32, 'hardness': 2}, '', '', 'Średnio']\n",
      "['2021/01/24 11:14:07 pm CET', 'Helena', '14', 'Kobieta', '> 5', 'Zdarzyło mi się kiedyś korzystać', {'clicks': 7, 'time': 25, 'hardness': 2}, {'clicks': 5, 'time': 20, 'hardness': 2}, {'clicks': 10, 'time': 32, 'hardness': 4}, {'clicks': 8, 'time': 20, 'hardness': 2}, {'clicks': 5, 'time': 35, 'hardness': 3}, {'clicks': 5, 'time': 10, 'hardness': 1}, {'clicks': 5, 'time': 22, 'hardness': 2}, {'clicks': 4, 'time': 10, 'hardness': 3}, {'clicks': 30, 'time': 150, 'hardness': 5}, {'clicks': 20, 'time': 240, 'hardness': 4}, {'clicks': 30, 'time': 200, 'hardness': 5}, {'clicks': 5, 'time': 45, 'hardness': 3}, {'clicks': 3, 'time': 20, 'hardness': 2}, {'clicks': 7, 'time': 20, 'hardness': 3}, {'clicks': 15, 'time': 180, 'hardness': 5}, {'clicks': 2, 'time': 15, 'hardness': 1}, {'clicks': 5, 'time': 20, 'hardness': 2}, {'clicks': 3, 'time': 15, 'hardness': 3}, {'clicks': 7, 'time': 30, 'hardness': 3}, {'clicks': 5, 'time': 30, 'hardness': 3}, {'clicks': 8, 'time': 30, 'hardness': 4}, {'clicks': 8, 'time': 60, 'hardness': 3}, {'clicks': 1, 'time': 5, 'hardness': 2}, {'clicks': 4, 'time': 30, 'hardness': 4}, {'clicks': 7, 'time': 15, 'hardness': 3}, {'clicks': 4, 'time': 15, 'hardness': 3}, {'clicks': 1, 'time': 1, 'hardness': 2}, {'clicks': 30, 'time': 120, 'hardness': 3}, {'clicks': 6, 'time': 15, 'hardness': 2}, {'clicks': 7, 'time': 20, 'hardness': 2}, {'clicks': 10, 'time': 30, 'hardness': 3}, {'clicks': 4, 'time': 8, 'hardness': 2}, 'Raczej dobrze', 'Nie korzystałem/łam', 'Raczej źle']\n",
      "['2021/01/25 12:03:02 am CET', 'ksld', '16', 'Mężczyzna', '3 - 5', 'Korzystam praktycznie codziennie', {'clicks': 3, 'time': 7, 'hardness': 1}, {'clicks': 3, 'time': 15, 'hardness': 1}, {'clicks': 3, 'time': 3, 'hardness': 1}, {'clicks': 5, 'time': 10, 'hardness': 1}, {'clicks': 3, 'time': 5, 'hardness': 1}, {'clicks': 5, 'time': 10, 'hardness': 1}, {'clicks': 3, 'time': 7, 'hardness': 1}, {'clicks': 3, 'time': 7, 'hardness': 1}, {'clicks': 7, 'time': 30, 'hardness': 2}, {'clicks': 10, 'time': 70, 'hardness': 3}, {'clicks': 3, 'time': 10, 'hardness': 2}, {'clicks': 15, 'time': 80, 'hardness': 2}, {'clicks': 4, 'time': 4, 'hardness': 1}, {'clicks': 4, 'time': 5, 'hardness': 1}, {'clicks': 'inf', 'time': 'inf', 'hardness': 5}, {'clicks': 2, 'time': 5, 'hardness': 1}, {'clicks': 2, 'time': 4, 'hardness': 1}, {'clicks': 3, 'time': 4, 'hardness': 1}, {'clicks': 3, 'time': 15, 'hardness': 1}, {'clicks': 5, 'time': 20, 'hardness': 2}, {'clicks': 3, 'time': 4, 'hardness': 1}, {'clicks': 5, 'time': 30, 'hardness': 2}, {'clicks': 4, 'time': 5, 'hardness': 1}, {'clicks': 4, 'time': 20, 'hardness': 1}, {'clicks': 2, 'time': 2, 'hardness': 1}, {'clicks': 2, 'time': 2, 'hardness': 1}, {'clicks': 1, 'time': 0, 'hardness': 1}, {'clicks': 3, 'time': 8, 'hardness': 1}, {'clicks': 4, 'time': 10, 'hardness': 1}, {'clicks': 2, 'time': 4, 'hardness': 1}, {'clicks': 5, 'time': 40, 'hardness': 2}, {'clicks': 2, 'time': 10, 'hardness': 1}, 'Raczej dobrze', 'Nie korzystałem/łam', 'Średnio']\n"
     ],
     "output_type": "stream"
    }
   ],
   "source": [
    "questions, responses = prepare_responses(path)"
   ],
   "metadata": {
    "collapsed": false,
    "pycharm": {
     "name": "#%%\n",
     "is_executing": false
    }
   }
  },
  {
   "cell_type": "code",
   "execution_count": 9,
   "outputs": [
    {
     "data": {
      "text/plain": "<Figure size 432x288 with 1 Axes>",
      "image/png": "[encoded data removed]"
     },
     "metadata": {
      "needs_background": "light"
     },
     "output_type": "display_data"
    }
   ],
   "source": [
    "groups = {'names': ['Women', 'Men'], 'content': ['Kobieta', 'Mężczyzna']}\n",
    "create_bar_chart(groups, [r[3] for r in responses], 'Sex')\n",
    "\n",
    "\n",
    "# groups = {'names': ['Women', 'Men'], 'content': ['Kobieta', 'Mężczyzna']}"
   ],
   "metadata": {
    "collapsed": false,
    "pycharm": {
     "name": "#%%\n",
     "is_executing": false
    }
   }
  }
 ],
 "metadata": {
  "kernelspec": {
   "display_name": "Python 3",
   "language": "python",
   "name": "python3"
  },
  "language_info": {
   "codemirror_mode": {
    "name": "ipython",
    "version": 2
   },
   "file_extension": ".py",
   "mimetype": "text/x-python",
   "name": "python",
   "nbconvert_exporter": "python",
   "pygments_lexer": "ipython2",
   "version": "2.7.6"
  },
  "pycharm": {
   "stem_cell": {
    "cell_type": "raw",
    "source": [],
    "metadata": {
     "collapsed": false
    }
   }
  }
 },
 "nbformat": 4,
 "nbformat_minor": 0
}